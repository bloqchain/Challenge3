{
 "cells": [
  {
   "cell_type": "code",
   "execution_count": 1,
   "metadata": {
    "collapsed": true
   },
   "outputs": [],
   "source": [
    "# Data Analysis of Beijing Taxi Trajectories\n",
    "\n",
    "# We are given GPS and time data for approximately 10k taxis that traveled their normal routes during \n",
    "# February 2-8, 2008.  Here is the data the Microsoft Research team found re: their analysis:\n",
    "# - 10,357 taxis\n",
    "# - 15M lines of data, where a line comprises GPS coordinate pairs and time info\n",
    "# - 9M kilometers of road traveled\n",
    "# - 177 secs or nearly 3 mins on average for 'sampling time' across all taxis\n",
    "# - 623 meters average distance traveled between 'snapshots' of all taxis' locations from GPS measurements\n",
    "\n",
    "# Here's a quick table to compare Microsoft Research team results and my results: \n",
    "#                                |  Microsoft    |  My Analysis                                       |\n",
    "#                                |_______________|____________________________________________________|\n",
    "#   | Lines of data              |     15M       |    17.7M rows initially; 14.3M after preprocessing |\n",
    "#   | Road traveled (km)         |      9M       |    10.4M                                           |\n",
    "#   | Avg distance interval (m)  |     623       |     731                                            |\n",
    "#   | Avg time interval (sec)    |     177       |     186                                            |\n",
    "\n",
    "# Note that the sampling frequency of these taxi trajectories can be used to determine traffic hotspots at \n",
    "# any given time within the City, as well as see preferred traffic paths through the City.\n",
    "\n",
    "# The original Microsoft Research white paper can be found at:\n",
    "#    www.microsoft.com/en-us/research/publication/t-drive-trajectory-data-sample\n",
    "\n",
    "# We are asked to cite the following papers when using taxi dataset:\n",
    "# [1] Jing Yuan, Yu Zheng, Xing Xie, and Guangzhong Sun, \"Driving With Knowledge from the Physical World,\" 2011\n",
    "# [2] Jing Yuan, Yu Zheng, Chengyang Zhang, Wenlei Xei, Xing Xie, Guangzhong Sun, and Yan Huang, \"T-Drive:  Driving \n",
    "#     Directions Based On Taxi Trajectories,\" 2010"
   ]
  },
  {
   "cell_type": "code",
   "execution_count": null,
   "metadata": {
    "collapsed": true
   },
   "outputs": [],
   "source": [
    "# Files for all 10,357 taxis can be found in MasterCompleteDataSet.zip at:\n",
    "#    https://drive.google.com/open?id=0B7HB0g6q7bfuTGhUeDF3REdIR1E"
   ]
  },
  {
   "cell_type": "code",
   "execution_count": 2,
   "metadata": {
    "collapsed": false
   },
   "outputs": [],
   "source": [
    "# Import needed packages for this notebook\n",
    "\n",
    "import pandas as pd\n",
    "import numpy as np\n",
    "import matplotlib.pyplot as plt\n",
    "import os\n",
    "import glob\n",
    "import datetime as datetime"
   ]
  },
  {
   "cell_type": "code",
   "execution_count": 3,
   "metadata": {
    "collapsed": true
   },
   "outputs": [],
   "source": [
    "# Place unzipped folder with data for 10k+ taxis in path used locally; use glob to capture all files\n",
    "\n",
    "path = r'/Users/christine/Desktop/MasterCompleteDataSet'\n",
    "all_files = glob.glob(os.path.join(path, \"*.txt\"))   "
   ]
  },
  {
   "cell_type": "code",
   "execution_count": 4,
   "metadata": {
    "collapsed": false
   },
   "outputs": [],
   "source": [
    "# Construct dataframe\n",
    "\n",
    "df = []\n",
    "colnames = ['taxi_id', 'date_time', 'longitude', 'latitude']\n",
    "\n",
    "for f in all_files:\n",
    "    df.append(pd.read_csv(f,\n",
    "                         header=None,\n",
    "                         infer_datetime_format=True,\n",
    "                         names=colnames))\n",
    "df = pd.concat(df, ignore_index=True)  "
   ]
  },
  {
   "cell_type": "code",
   "execution_count": 5,
   "metadata": {
    "collapsed": false
   },
   "outputs": [],
   "source": [
    "# Ensure proper time data type\n",
    "\n",
    "df['date_time'] = pd.to_datetime(df.date_time) "
   ]
  },
  {
   "cell_type": "code",
   "execution_count": 6,
   "metadata": {
    "collapsed": false
   },
   "outputs": [
    {
     "data": {
      "text/plain": [
       "taxi_id             float64\n",
       "date_time    datetime64[ns]\n",
       "longitude           float64\n",
       "latitude            float64\n",
       "dtype: object"
      ]
     },
     "execution_count": 6,
     "metadata": {},
     "output_type": "execute_result"
    }
   ],
   "source": [
    "df.dtypes"
   ]
  },
  {
   "cell_type": "code",
   "execution_count": 7,
   "metadata": {
    "collapsed": false
   },
   "outputs": [
    {
     "name": "stdout",
     "output_type": "stream",
     "text": [
      "17,662,984 rows in initial dataframe\n"
     ]
    }
   ],
   "source": [
    "# Size of initial dataframe\n",
    "\n",
    "message = \"{:,} rows in initial dataframe\"\n",
    "print(message.format(len(df)))"
   ]
  },
  {
   "cell_type": "code",
   "execution_count": 8,
   "metadata": {
    "collapsed": false
   },
   "outputs": [
    {
     "data": {
      "text/plain": [
       "(16325487, 4)"
      ]
     },
     "execution_count": 8,
     "metadata": {},
     "output_type": "execute_result"
    }
   ],
   "source": [
    "# Preprocess data - Check -- and then drop -- duplicates in dataframe \n",
    "\n",
    "df.drop_duplicates(inplace=True)\n",
    "df.shape"
   ]
  },
  {
   "cell_type": "code",
   "execution_count": 9,
   "metadata": {
    "collapsed": false
   },
   "outputs": [
    {
     "data": {
      "text/plain": [
       "(16325487, 4)"
      ]
     },
     "execution_count": 9,
     "metadata": {},
     "output_type": "execute_result"
    }
   ],
   "source": [
    "# Preprocess data - Check for NAN's in dataframe\n",
    "\n",
    "df.dropna().shape\n",
    "df.shape"
   ]
  },
  {
   "cell_type": "code",
   "execution_count": 10,
   "metadata": {
    "collapsed": false
   },
   "outputs": [
    {
     "data": {
      "text/plain": [
       "(16325487, 4)"
      ]
     },
     "execution_count": 10,
     "metadata": {},
     "output_type": "execute_result"
    }
   ],
   "source": [
    "# Preprocess data - Do quick check to ensure data represented in dataframe comprises only those 7 days\n",
    "# from Feb 2 to Feb 8 in 2008\n",
    "\n",
    "timelow = pd.to_datetime('2/2/2008')\n",
    "timehigh = pd.to_datetime('2/9/2008')\n",
    "df = df.loc[((df.date_time >= timelow) & (df.date_time < timehigh)), :]\n",
    "df.shape"
   ]
  },
  {
   "cell_type": "code",
   "execution_count": 11,
   "metadata": {
    "collapsed": false
   },
   "outputs": [
    {
     "data": {
      "text/plain": [
       "(15227603, 4)"
      ]
     },
     "execution_count": 11,
     "metadata": {},
     "output_type": "execute_result"
    }
   ],
   "source": [
    "# Preprocess data - Do quick check on any outliers in GPS <lat, long> that are outside of 'bounding box'\n",
    "# that represents Beijing.  Start with latitude.\n",
    "\n",
    "latlow = 39.65\n",
    "lathigh = 40.20\n",
    "df = df.loc[((df.latitude >= latlow) & (df.latitude <= lathigh)), :]\n",
    "df.shape"
   ]
  },
  {
   "cell_type": "code",
   "execution_count": 12,
   "metadata": {
    "collapsed": false
   },
   "outputs": [
    {
     "data": {
      "text/plain": [
       "(14262198, 4)"
      ]
     },
     "execution_count": 12,
     "metadata": {},
     "output_type": "execute_result"
    }
   ],
   "source": [
    "# Preprocess data - Check now for longitudinal outliers\n",
    "\n",
    "longlow = 116.15\n",
    "longhigh = 116.90\n",
    "df = df.loc[((df.longitude >= longlow) & (df.longitude <= longhigh)), :]\n",
    "df.shape"
   ]
  },
  {
   "cell_type": "code",
   "execution_count": 13,
   "metadata": {
    "collapsed": false
   },
   "outputs": [
    {
     "name": "stdout",
     "output_type": "stream",
     "text": [
      "14,262,198 rows in dataframe after all preprocessing\n"
     ]
    }
   ],
   "source": [
    "# Size of dataframe after all outlier checks\n",
    "\n",
    "message1 = \"{:,} rows in dataframe after all preprocessing\"\n",
    "print(message1.format(len(df)))"
   ]
  },
  {
   "cell_type": "code",
   "execution_count": 14,
   "metadata": {
    "collapsed": true
   },
   "outputs": [],
   "source": [
    "# Time intervals (or sampling frequency) - Find the deltas between the times\n",
    "\n",
    "grouped = df.sort_values(by='date_time').groupby('taxi_id')['date_time']\n",
    "\n",
    "samples = []\n",
    "\n",
    "for g, times in grouped:\n",
    "    samples.append(times.diff().astype('timedelta64[m]'))\n",
    "    \n",
    "samples = pd.concat(samples)\n",
    "samples.dropna(inplace=True)"
   ]
  },
  {
   "cell_type": "code",
   "execution_count": 15,
   "metadata": {
    "collapsed": false
   },
   "outputs": [
    {
     "data": {
      "text/plain": [
       "(14251933,)"
      ]
     },
     "execution_count": 15,
     "metadata": {},
     "output_type": "execute_result"
    }
   ],
   "source": [
    "samples.shape"
   ]
  },
  {
   "cell_type": "code",
   "execution_count": 16,
   "metadata": {
    "collapsed": false
   },
   "outputs": [
    {
     "data": {
      "text/plain": [
       "1    10.0\n",
       "3    10.0\n",
       "4    10.0\n",
       "5    10.0\n",
       "6    10.0\n",
       "Name: date_time, dtype: float64"
      ]
     },
     "execution_count": 16,
     "metadata": {},
     "output_type": "execute_result"
    }
   ],
   "source": [
    "samples.head()"
   ]
  },
  {
   "cell_type": "code",
   "execution_count": 17,
   "metadata": {
    "collapsed": false
   },
   "outputs": [
    {
     "data": {
      "text/plain": [
       "490220    5.0\n",
       "490221    5.0\n",
       "490222    5.0\n",
       "490223    4.0\n",
       "490224    5.0\n",
       "Name: date_time, dtype: float64"
      ]
     },
     "execution_count": 17,
     "metadata": {},
     "output_type": "execute_result"
    }
   ],
   "source": [
    "samples.tail()"
   ]
  },
  {
   "cell_type": "code",
   "execution_count": 18,
   "metadata": {
    "collapsed": false
   },
   "outputs": [
    {
     "data": {
      "text/plain": [
       "0.0"
      ]
     },
     "execution_count": 18,
     "metadata": {},
     "output_type": "execute_result"
    }
   ],
   "source": [
    "samples.min()"
   ]
  },
  {
   "cell_type": "code",
   "execution_count": 19,
   "metadata": {
    "collapsed": false
   },
   "outputs": [
    {
     "data": {
      "text/plain": [
       "8600.0"
      ]
     },
     "execution_count": 19,
     "metadata": {},
     "output_type": "execute_result"
    }
   ],
   "source": [
    "samples.max()"
   ]
  },
  {
   "cell_type": "code",
   "execution_count": 20,
   "metadata": {
    "collapsed": false
   },
   "outputs": [
    {
     "name": "stdout",
     "output_type": "stream",
     "text": [
      "3.10 minutes is the average sampling frequency (or time interval)\n"
     ]
    }
   ],
   "source": [
    "# Okay, above max of 8600 mins or nearly 6 days is way yuuuge(!) \n",
    "# Need to do sanity check on these time intervals or how often taxi's location is recorded\n",
    "# Assume outliers are anything over 30 mins, so we will only consider values in our mean calculation if\n",
    "# 30 mins or under\n",
    "\n",
    "# We find below the result is a little above 3 mins (or precisely 186 secs), whereas Microsoft Research had a \n",
    "# result of 177 secs \n",
    "\n",
    "message2 = \"{:,.2f} minutes is the average sampling frequency (or time interval)\"\n",
    "print(message2.format(samples[samples <= 30].mean()))"
   ]
  },
  {
   "cell_type": "code",
   "execution_count": 21,
   "metadata": {
    "collapsed": false
   },
   "outputs": [
    {
     "data": {
      "image/png": "[encoded data removed]",
      "text/plain": [
       "<matplotlib.figure.Figure at 0x1304af6d8>"
      ]
     },
     "metadata": {},
     "output_type": "display_data"
    }
   ],
   "source": [
    "# We are asked to generate the plots shown in the Microsoft Research white paper.  Below is the plot of\n",
    "# distribution of time samples across all taxis.\n",
    "\n",
    "time_hist = samples.hist(normed=True, range=(0,12), bins=12)\n",
    "time_hist.set_ylabel(\"Proportion\")\n",
    "time_hist.set_xlabel(\"Distribution of Time Samples (minutes)\")\n",
    "plt.show()"
   ]
  },
  {
   "cell_type": "code",
   "execution_count": 22,
   "metadata": {
    "collapsed": true
   },
   "outputs": [],
   "source": [
    "# Distance intervals\n",
    "# Function to calculate distance using Haversine formula for GPS coordinate pairs in millions of rows of data\n",
    "# This is my modification to speedy Haversine calculation found at Stack Overflow #29545704\n",
    "\n",
    "def FastHaversine(lat, long):\n",
    "    \n",
    "    lat = np.array(lat)\n",
    "    long = np.array(long)\n",
    "    lat1 = lat[0:-1]\n",
    "    lat2 = lat[1:]\n",
    "    long1 = long[0:-1]\n",
    "    long2 = long[1:]\n",
    "    lat1, long1, lat2, long2 = map(np.radians, [lat1, long1, lat2, long2])\n",
    "    dlong = long2 - long1\n",
    "    dlat = lat2 - lat1\n",
    "    a = np.sin(dlat/2.0)**2 + np.cos(lat1) * np.cos(lat2) * np.sin(dlong/2.0)**2\n",
    "    c = 2 * np.arcsin(np.sqrt(a))\n",
    "    meters = 1000 * 6371 * c\n",
    "    \n",
    "    return meters"
   ]
  },
  {
   "cell_type": "code",
   "execution_count": 23,
   "metadata": {
    "collapsed": false
   },
   "outputs": [],
   "source": [
    "# Distance intervals - This calculates the differences between the GPS coordinate pairs\n",
    "\n",
    "grouped = df.sort_values(by='date_time').groupby('taxi_id')\n",
    "\n",
    "distances = []\n",
    "\n",
    "for g in grouped:\n",
    "    distances.append(pd.DataFrame(FastHaversine(g[1].latitude.values, g[1].longitude.values)))\n",
    "    \n",
    "distances = pd.concat(distances)\n",
    "distances.dropna(inplace=True)"
   ]
  },
  {
   "cell_type": "code",
   "execution_count": 24,
   "metadata": {
    "collapsed": false
   },
   "outputs": [
    {
     "data": {
      "text/html": [
       "<div>\n",
       "<table border=\"1\" class=\"dataframe\">\n",
       "  <thead>\n",
       "    <tr style=\"text-align: right;\">\n",
       "      <th></th>\n",
       "      <th>0</th>\n",
       "    </tr>\n",
       "  </thead>\n",
       "  <tbody>\n",
       "    <tr>\n",
       "      <th>0</th>\n",
       "      <td>1957.284990</td>\n",
       "    </tr>\n",
       "    <tr>\n",
       "      <th>1</th>\n",
       "      <td>3195.604390</td>\n",
       "    </tr>\n",
       "    <tr>\n",
       "      <th>2</th>\n",
       "      <td>3795.225678</td>\n",
       "    </tr>\n",
       "    <tr>\n",
       "      <th>3</th>\n",
       "      <td>1390.187985</td>\n",
       "    </tr>\n",
       "    <tr>\n",
       "      <th>4</th>\n",
       "      <td>1979.535000</td>\n",
       "    </tr>\n",
       "  </tbody>\n",
       "</table>\n",
       "</div>"
      ],
      "text/plain": [
       "             0\n",
       "0  1957.284990\n",
       "1  3195.604390\n",
       "2  3795.225678\n",
       "3  1390.187985\n",
       "4  1979.535000"
      ]
     },
     "execution_count": 24,
     "metadata": {},
     "output_type": "execute_result"
    }
   ],
   "source": [
    "distances.head()"
   ]
  },
  {
   "cell_type": "code",
   "execution_count": 25,
   "metadata": {
    "collapsed": false
   },
   "outputs": [
    {
     "data": {
      "text/html": [
       "<div>\n",
       "<table border=\"1\" class=\"dataframe\">\n",
       "  <thead>\n",
       "    <tr style=\"text-align: right;\">\n",
       "      <th></th>\n",
       "      <th>0</th>\n",
       "    </tr>\n",
       "  </thead>\n",
       "  <tbody>\n",
       "    <tr>\n",
       "      <th>479</th>\n",
       "      <td>4113.034214</td>\n",
       "    </tr>\n",
       "    <tr>\n",
       "      <th>480</th>\n",
       "      <td>3395.351739</td>\n",
       "    </tr>\n",
       "    <tr>\n",
       "      <th>481</th>\n",
       "      <td>3064.452418</td>\n",
       "    </tr>\n",
       "    <tr>\n",
       "      <th>482</th>\n",
       "      <td>511.009685</td>\n",
       "    </tr>\n",
       "    <tr>\n",
       "      <th>483</th>\n",
       "      <td>7.586082</td>\n",
       "    </tr>\n",
       "  </tbody>\n",
       "</table>\n",
       "</div>"
      ],
      "text/plain": [
       "               0\n",
       "479  4113.034214\n",
       "480  3395.351739\n",
       "481  3064.452418\n",
       "482   511.009685\n",
       "483     7.586082"
      ]
     },
     "execution_count": 25,
     "metadata": {},
     "output_type": "execute_result"
    }
   ],
   "source": [
    "distances.tail()"
   ]
  },
  {
   "cell_type": "code",
   "execution_count": 26,
   "metadata": {
    "collapsed": false
   },
   "outputs": [
    {
     "data": {
      "text/plain": [
       "0    0.0\n",
       "dtype: float64"
      ]
     },
     "execution_count": 26,
     "metadata": {},
     "output_type": "execute_result"
    }
   ],
   "source": [
    "distances.min()"
   ]
  },
  {
   "cell_type": "code",
   "execution_count": 27,
   "metadata": {
    "collapsed": false
   },
   "outputs": [
    {
     "data": {
      "text/plain": [
       "0    73647.024178\n",
       "dtype: float64"
      ]
     },
     "execution_count": 27,
     "metadata": {},
     "output_type": "execute_result"
    }
   ],
   "source": [
    "distances.max()"
   ]
  },
  {
   "cell_type": "code",
   "execution_count": 28,
   "metadata": {
    "collapsed": false
   },
   "outputs": [
    {
     "name": "stdout",
     "output_type": "stream",
     "text": [
      "Total kilometers traveled by all taxis:  0    1.041433e+07\n",
      "dtype: float64\n"
     ]
    }
   ],
   "source": [
    "# So 73.6 kms is again totally yuuuge\n",
    "# In keeping with time interval outlier check, where anything over 30 mins was discarded...\n",
    "# ...Here on distance portion, an outlier will be considered any value over 25km\n",
    "# The reasoning is that a taxi can likely travel at most at 50 km (or 30 miles) through congested city \n",
    "# in one hour (or 2 * 30 mins)\n",
    "\n",
    "# Our result below is just over 10M kms or 10.41 x 10^6 km, whereas Microsoft Research's result was 9M kms\n",
    "\n",
    "print(\"Total kilometers traveled by all taxis: \", ((distances[distances<=25000] / 1000).sum()))"
   ]
  },
  {
   "cell_type": "code",
   "execution_count": 29,
   "metadata": {
    "collapsed": false
   },
   "outputs": [
    {
     "name": "stdout",
     "output_type": "stream",
     "text": [
      "Average distance interval across all taxis:  0    731.151081\n",
      "dtype: float64\n"
     ]
    }
   ],
   "source": [
    "# So average distance traveled between GPS recordings is 731 meters\n",
    "# The Microsoft Research found an average distance interval of 623 meters\n",
    "\n",
    "print(\"Average distance interval across all taxis: \", (distances[distances <= 25000].mean()))"
   ]
  },
  {
   "cell_type": "code",
   "execution_count": 30,
   "metadata": {
    "collapsed": false
   },
   "outputs": [
    {
     "data": {
      "image/png": "[encoded data removed]",
      "text/plain": [
       "<matplotlib.figure.Figure at 0x18be7af28>"
      ]
     },
     "metadata": {},
     "output_type": "display_data"
    }
   ],
   "source": [
    "# We are asked to generate the plots shown in the Microsoft Research white paper.  Plot below shows the \n",
    "# distribution of distance intervals among all of the taxis.\n",
    "\n",
    "fig = plt.figure()\n",
    "n, bins, patches = plt.hist(distances, normed=True, range=(0,8000), bins=12)\n",
    "plt.ylabel(\"Proportion\")\n",
    "plt.xlabel(\"Distribution of Distance Intervals (meters)\")\n",
    "plt.show()"
   ]
  },
  {
   "cell_type": "code",
   "execution_count": null,
   "metadata": {
    "collapsed": true
   },
   "outputs": [],
   "source": []
  }
 ],
 "metadata": {
  "anaconda-cloud": {},
  "kernelspec": {
   "display_name": "Python 3",
   "language": "python",
   "name": "python3"
  },
  "language_info": {
   "codemirror_mode": {
    "name": "ipython",
    "version": 3
   },
   "file_extension": ".py",
   "mimetype": "text/x-python",
   "name": "python",
   "nbconvert_exporter": "python",
   "pygments_lexer": "ipython3",
   "version": "3.4.4"
  }
 },
 "nbformat": 4,
 "nbformat_minor": 2
}
